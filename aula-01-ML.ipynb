{
 "cells": [
  {
   "cell_type": "code",
   "execution_count": 2,
   "metadata": {
    "id": "PI8TCQ7WQElY"
   },
   "outputs": [],
   "source": [
    "import pandas as pd\n",
    "import matplotlib.pyplot as plt\n",
    "from collections import Counter"
   ]
  },
  {
   "cell_type": "code",
   "execution_count": 3,
   "metadata": {
    "id": "2xe-HJqWQEld"
   },
   "outputs": [],
   "source": [
    "df = pd.read_csv('vendas.csv')"
   ]
  },
  {
   "cell_type": "code",
   "execution_count": 4,
   "metadata": {
    "colab": {
     "base_uri": "https://localhost:8080/"
    },
    "executionInfo": {
     "elapsed": 36,
     "status": "ok",
     "timestamp": 1637947438874,
     "user": {
      "displayName": "Luan Matheus Marques",
      "photoUrl": "https://lh3.googleusercontent.com/a-/AOh14GjL7p8YUmeOpBBKPOujdJowzTs91EVxvlcXcncA=s64",
      "userId": "05581394434927371962"
     },
     "user_tz": 180
    },
    "id": "iPY-DSsGQElf",
    "outputId": "bb56bcea-a74d-4eb6-90ea-dcb88c85984d"
   },
   "outputs": [
    {
     "data": {
      "text/plain": [
       "0      False\n",
       "1      False\n",
       "2      False\n",
       "3      False\n",
       "4      False\n",
       "       ...  \n",
       "995     True\n",
       "996     True\n",
       "997     True\n",
       "998    False\n",
       "999     True\n",
       "Name: Comprou, Length: 1000, dtype: bool"
      ]
     },
     "execution_count": 4,
     "metadata": {},
     "output_type": "execute_result"
    }
   ],
   "source": [
    "df[\"Comprou\"] == 1"
   ]
  },
  {
   "cell_type": "code",
   "execution_count": 5,
   "metadata": {
    "colab": {
     "base_uri": "https://localhost:8080/",
     "height": 424
    },
    "executionInfo": {
     "elapsed": 260,
     "status": "ok",
     "timestamp": 1637947439120,
     "user": {
      "displayName": "Luan Matheus Marques",
      "photoUrl": "https://lh3.googleusercontent.com/a-/AOh14GjL7p8YUmeOpBBKPOujdJowzTs91EVxvlcXcncA=s64",
      "userId": "05581394434927371962"
     },
     "user_tz": 180
    },
    "id": "D_OdvhqaQEli",
    "outputId": "d5ceec72-7575-4fc9-a96e-674d4bc3ce73",
    "scrolled": false
   },
   "outputs": [
    {
     "data": {
      "text/html": [
       "<div>\n",
       "<style scoped>\n",
       "    .dataframe tbody tr th:only-of-type {\n",
       "        vertical-align: middle;\n",
       "    }\n",
       "\n",
       "    .dataframe tbody tr th {\n",
       "        vertical-align: top;\n",
       "    }\n",
       "\n",
       "    .dataframe thead th {\n",
       "        text-align: right;\n",
       "    }\n",
       "</style>\n",
       "<table border=\"1\" class=\"dataframe\">\n",
       "  <thead>\n",
       "    <tr style=\"text-align: right;\">\n",
       "      <th></th>\n",
       "      <th>Tempo de Conexao</th>\n",
       "      <th>Idade</th>\n",
       "      <th>Renda</th>\n",
       "      <th>Media Diaria de Internet</th>\n",
       "      <th>Cabecalho</th>\n",
       "      <th>Cidade</th>\n",
       "      <th>Sexo</th>\n",
       "      <th>Pais</th>\n",
       "      <th>Horario Clique</th>\n",
       "      <th>Comprou</th>\n",
       "    </tr>\n",
       "  </thead>\n",
       "  <tbody>\n",
       "    <tr>\n",
       "      <th>22</th>\n",
       "      <td>41.49</td>\n",
       "      <td>52</td>\n",
       "      <td>32635.70</td>\n",
       "      <td>164.83</td>\n",
       "      <td>Mandatory disintermediate utilization</td>\n",
       "      <td>South John</td>\n",
       "      <td>0</td>\n",
       "      <td>Burundi</td>\n",
       "      <td>2016-05-20 08:49:33</td>\n",
       "      <td>1</td>\n",
       "    </tr>\n",
       "    <tr>\n",
       "      <th>27</th>\n",
       "      <td>51.95</td>\n",
       "      <td>52</td>\n",
       "      <td>58295.82</td>\n",
       "      <td>129.23</td>\n",
       "      <td>Monitored systematic hierarchy</td>\n",
       "      <td>South Cathyfurt</td>\n",
       "      <td>0</td>\n",
       "      <td>Greece</td>\n",
       "      <td>2016-07-19 08:32:10</td>\n",
       "      <td>1</td>\n",
       "    </tr>\n",
       "    <tr>\n",
       "      <th>32</th>\n",
       "      <td>59.05</td>\n",
       "      <td>57</td>\n",
       "      <td>25583.29</td>\n",
       "      <td>169.23</td>\n",
       "      <td>Digitized global capability</td>\n",
       "      <td>North Richardburgh</td>\n",
       "      <td>1</td>\n",
       "      <td>Maldives</td>\n",
       "      <td>2016-07-15 05:05:14</td>\n",
       "      <td>1</td>\n",
       "    </tr>\n",
       "    <tr>\n",
       "      <th>34</th>\n",
       "      <td>57.64</td>\n",
       "      <td>57</td>\n",
       "      <td>45580.92</td>\n",
       "      <td>133.81</td>\n",
       "      <td>Synchronized dedicated service-desk</td>\n",
       "      <td>New Thomas</td>\n",
       "      <td>1</td>\n",
       "      <td>Dominica</td>\n",
       "      <td>2016-03-15 03:12:25</td>\n",
       "      <td>1</td>\n",
       "    </tr>\n",
       "    <tr>\n",
       "      <th>36</th>\n",
       "      <td>62.26</td>\n",
       "      <td>53</td>\n",
       "      <td>56770.79</td>\n",
       "      <td>125.45</td>\n",
       "      <td>Profound stable product</td>\n",
       "      <td>West Aprilport</td>\n",
       "      <td>1</td>\n",
       "      <td>Montenegro</td>\n",
       "      <td>2016-04-07 15:18:10</td>\n",
       "      <td>1</td>\n",
       "    </tr>\n",
       "    <tr>\n",
       "      <th>...</th>\n",
       "      <td>...</td>\n",
       "      <td>...</td>\n",
       "      <td>...</td>\n",
       "      <td>...</td>\n",
       "      <td>...</td>\n",
       "      <td>...</td>\n",
       "      <td>...</td>\n",
       "      <td>...</td>\n",
       "      <td>...</td>\n",
       "      <td>...</td>\n",
       "    </tr>\n",
       "    <tr>\n",
       "      <th>965</th>\n",
       "      <td>35.25</td>\n",
       "      <td>50</td>\n",
       "      <td>47051.02</td>\n",
       "      <td>194.44</td>\n",
       "      <td>Intuitive global website</td>\n",
       "      <td>Waltertown</td>\n",
       "      <td>0</td>\n",
       "      <td>Iran</td>\n",
       "      <td>2016-01-03 04:39:47</td>\n",
       "      <td>1</td>\n",
       "    </tr>\n",
       "    <tr>\n",
       "      <th>966</th>\n",
       "      <td>37.58</td>\n",
       "      <td>52</td>\n",
       "      <td>51600.47</td>\n",
       "      <td>176.70</td>\n",
       "      <td>Exclusive disintermediate Internet solution</td>\n",
       "      <td>Cameronberg</td>\n",
       "      <td>1</td>\n",
       "      <td>Bulgaria</td>\n",
       "      <td>2016-04-13 13:04:47</td>\n",
       "      <td>1</td>\n",
       "    </tr>\n",
       "    <tr>\n",
       "      <th>972</th>\n",
       "      <td>50.48</td>\n",
       "      <td>50</td>\n",
       "      <td>20592.99</td>\n",
       "      <td>162.43</td>\n",
       "      <td>Switchable real-time product</td>\n",
       "      <td>Dianaville</td>\n",
       "      <td>0</td>\n",
       "      <td>Malawi</td>\n",
       "      <td>2016-05-16 18:51:59</td>\n",
       "      <td>1</td>\n",
       "    </tr>\n",
       "    <tr>\n",
       "      <th>980</th>\n",
       "      <td>67.26</td>\n",
       "      <td>57</td>\n",
       "      <td>25682.65</td>\n",
       "      <td>168.41</td>\n",
       "      <td>Focused incremental Graphic Interface</td>\n",
       "      <td>North Derekville</td>\n",
       "      <td>1</td>\n",
       "      <td>Bulgaria</td>\n",
       "      <td>2016-05-27 05:54:03</td>\n",
       "      <td>1</td>\n",
       "    </tr>\n",
       "    <tr>\n",
       "      <th>997</th>\n",
       "      <td>51.63</td>\n",
       "      <td>51</td>\n",
       "      <td>42415.72</td>\n",
       "      <td>120.37</td>\n",
       "      <td>Expanded intangible solution</td>\n",
       "      <td>South Jessica</td>\n",
       "      <td>1</td>\n",
       "      <td>Mongolia</td>\n",
       "      <td>2016-02-01 17:24:57</td>\n",
       "      <td>1</td>\n",
       "    </tr>\n",
       "  </tbody>\n",
       "</table>\n",
       "<p>88 rows × 10 columns</p>\n",
       "</div>"
      ],
      "text/plain": [
       "     Tempo de Conexao  Idade     Renda  Media Diaria de Internet  \\\n",
       "22              41.49     52  32635.70                    164.83   \n",
       "27              51.95     52  58295.82                    129.23   \n",
       "32              59.05     57  25583.29                    169.23   \n",
       "34              57.64     57  45580.92                    133.81   \n",
       "36              62.26     53  56770.79                    125.45   \n",
       "..                ...    ...       ...                       ...   \n",
       "965             35.25     50  47051.02                    194.44   \n",
       "966             37.58     52  51600.47                    176.70   \n",
       "972             50.48     50  20592.99                    162.43   \n",
       "980             67.26     57  25682.65                    168.41   \n",
       "997             51.63     51  42415.72                    120.37   \n",
       "\n",
       "                                       Cabecalho              Cidade  Sexo  \\\n",
       "22         Mandatory disintermediate utilization          South John     0   \n",
       "27                Monitored systematic hierarchy     South Cathyfurt     0   \n",
       "32                   Digitized global capability  North Richardburgh     1   \n",
       "34           Synchronized dedicated service-desk          New Thomas     1   \n",
       "36                       Profound stable product      West Aprilport     1   \n",
       "..                                           ...                 ...   ...   \n",
       "965                     Intuitive global website          Waltertown     0   \n",
       "966  Exclusive disintermediate Internet solution         Cameronberg     1   \n",
       "972                 Switchable real-time product          Dianaville     0   \n",
       "980        Focused incremental Graphic Interface    North Derekville     1   \n",
       "997                 Expanded intangible solution       South Jessica     1   \n",
       "\n",
       "           Pais       Horario Clique  Comprou  \n",
       "22      Burundi  2016-05-20 08:49:33        1  \n",
       "27       Greece  2016-07-19 08:32:10        1  \n",
       "32     Maldives  2016-07-15 05:05:14        1  \n",
       "34     Dominica  2016-03-15 03:12:25        1  \n",
       "36   Montenegro  2016-04-07 15:18:10        1  \n",
       "..          ...                  ...      ...  \n",
       "965        Iran  2016-01-03 04:39:47        1  \n",
       "966    Bulgaria  2016-04-13 13:04:47        1  \n",
       "972      Malawi  2016-05-16 18:51:59        1  \n",
       "980    Bulgaria  2016-05-27 05:54:03        1  \n",
       "997    Mongolia  2016-02-01 17:24:57        1  \n",
       "\n",
       "[88 rows x 10 columns]"
      ]
     },
     "execution_count": 5,
     "metadata": {},
     "output_type": "execute_result"
    }
   ],
   "source": [
    "df[(df[\"Comprou\"] == 1) & (df[\"Idade\"] >= 50)]"
   ]
  },
  {
   "cell_type": "code",
   "execution_count": 6,
   "metadata": {
    "id": "m_9R38nGQElj"
   },
   "outputs": [],
   "source": [
    "compradores = df[(df[\"Comprou\"] == 1)]\n",
    "idades = compradores[\"Idade\"]\n",
    "rendas = compradores[\"Renda\"]"
   ]
  },
  {
   "cell_type": "code",
   "execution_count": 7,
   "metadata": {
    "colab": {
     "base_uri": "https://localhost:8080/",
     "height": 621
    },
    "executionInfo": {
     "elapsed": 470,
     "status": "ok",
     "timestamp": 1637947439577,
     "user": {
      "displayName": "Luan Matheus Marques",
      "photoUrl": "https://lh3.googleusercontent.com/a-/AOh14GjL7p8YUmeOpBBKPOujdJowzTs91EVxvlcXcncA=s64",
      "userId": "05581394434927371962"
     },
     "user_tz": 180
    },
    "id": "85zb1RswQEll",
    "outputId": "613e17e8-effb-4771-b11c-9b12dc158783",
    "scrolled": false
   },
   "outputs": [
    {
     "data": {
      "image/png": "[encoded data removed]",
      "text/plain": [
       "<Figure size 720x720 with 1 Axes>"
      ]
     },
     "metadata": {
      "needs_background": "light"
     },
     "output_type": "display_data"
    }
   ],
   "source": [
    "plt.figure(figsize=(10,10))\n",
    "plt.title(\"Relação de compras por Idade x Renda\")\n",
    "plt.xlabel(\"Renda anual\")\n",
    "plt.ylabel(\"Idade\")\n",
    "plt.scatter(rendas, idades)\n",
    "plt.show()"
   ]
  },
  {
   "cell_type": "code",
   "execution_count": 8,
   "metadata": {
    "colab": {
     "base_uri": "https://localhost:8080/",
     "height": 592
    },
    "executionInfo": {
     "elapsed": 395,
     "status": "ok",
     "timestamp": 1637947439963,
     "user": {
      "displayName": "Luan Matheus Marques",
      "photoUrl": "https://lh3.googleusercontent.com/a-/AOh14GjL7p8YUmeOpBBKPOujdJowzTs91EVxvlcXcncA=s64",
      "userId": "05581394434927371962"
     },
     "user_tz": 180
    },
    "id": "HpLvBwvaQEll",
    "outputId": "b592049a-d501-4a9e-b31c-73d17e943505"
   },
   "outputs": [
    {
     "data": {
      "image/png": "[encoded data removed]",
      "text/plain": [
       "<Figure size 1440x720 with 1 Axes>"
      ]
     },
     "metadata": {
      "needs_background": "light"
     },
     "output_type": "display_data"
    }
   ],
   "source": [
    "counter = Counter(idades)\n",
    "\n",
    "lista_idades = list(counter.keys())\n",
    "qtd_idades = list(counter.values())\n",
    "\n",
    "plt.figure(figsize=(20,10))\n",
    "plt.bar(lista_idades, qtd_idades)\n",
    "plt.show()"
   ]
  }
 ],
 "metadata": {
  "colab": {
   "name": "aula-01-ML.ipynb",
   "provenance": []
  },
  "kernelspec": {
   "display_name": "Python 3 (ipykernel)",
   "language": "python",
   "name": "python3"
  },
  "language_info": {
   "codemirror_mode": {
    "name": "ipython",
    "version": 3
   },
   "file_extension": ".py",
   "mimetype": "text/x-python",
   "name": "python",
   "nbconvert_exporter": "python",
   "pygments_lexer": "ipython3",
   "version": "3.8.10"
  }
 },
 "nbformat": 4,
 "nbformat_minor": 1
}
