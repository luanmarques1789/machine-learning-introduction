{
 "cells": [
  {
   "cell_type": "markdown",
   "metadata": {
    "id": "bq9uIQwROB-C"
   },
   "source": [
    "# LOGISTIC REGRESSION"
   ]
  },
  {
   "cell_type": "markdown",
   "metadata": {
    "id": "9JL6RNe_jPJh"
   },
   "source": [
    "## Imports"
   ]
  },
  {
   "cell_type": "code",
   "execution_count": 2,
   "metadata": {
    "executionInfo": {
     "elapsed": 557,
     "status": "ok",
     "timestamp": 1639256504594,
     "user": {
      "displayName": "Luan Matheus Marques",
      "photoUrl": "https://lh3.googleusercontent.com/a-/AOh14GjL7p8YUmeOpBBKPOujdJowzTs91EVxvlcXcncA=s64",
      "userId": "05581394434927371962"
     },
     "user_tz": 180
    },
    "id": "Ezl_KckIN9D2"
   },
   "outputs": [],
   "source": [
    "import pandas as pd\n",
    "import numpy as np\n",
    "\n",
    "from sklearn.linear_model import LogisticRegression\n",
    "from sklearn.model_selection import train_test_split\n",
    "from sklearn.metrics import accuracy_score, confusion_matrix, classification_report\n",
    "\n",
    "import seaborn as sb\n",
    "import matplotlib.pyplot as plt"
   ]
  },
  {
   "cell_type": "markdown",
   "metadata": {
    "id": "b3m1QSyZkmsW"
   },
   "source": [
    "## Manipulating data"
   ]
  },
  {
   "cell_type": "code",
   "execution_count": 3,
   "metadata": {
    "executionInfo": {
     "elapsed": 327,
     "status": "ok",
     "timestamp": 1639256505281,
     "user": {
      "displayName": "Luan Matheus Marques",
      "photoUrl": "https://lh3.googleusercontent.com/a-/AOh14GjL7p8YUmeOpBBKPOujdJowzTs91EVxvlcXcncA=s64",
      "userId": "05581394434927371962"
     },
     "user_tz": 180
    },
    "id": "BtDmdpRFPOGV"
   },
   "outputs": [],
   "source": [
    "local = '/content/drive/MyDrive/Colab Notebooks/Machine Learning/vendas.csv'\n",
    "df_original = pd.read_csv(local)\n",
    "\n",
    "# Retirando colunas 'inúteis'\n",
    "df = df_original.drop(['Cabecalho', 'Cidade', 'Pais', 'Horario Clique'], axis=1)"
   ]
  },
  {
   "cell_type": "code",
   "execution_count": 4,
   "metadata": {
    "executionInfo": {
     "elapsed": 42,
     "status": "ok",
     "timestamp": 1639256505282,
     "user": {
      "displayName": "Luan Matheus Marques",
      "photoUrl": "https://lh3.googleusercontent.com/a-/AOh14GjL7p8YUmeOpBBKPOujdJowzTs91EVxvlcXcncA=s64",
      "userId": "05581394434927371962"
     },
     "user_tz": 180
    },
    "id": "NTIzPypvS7Df"
   },
   "outputs": [],
   "source": [
    "dados = df.drop('Comprou', axis=1)\n",
    "target = df['Comprou']\n",
    "\n",
    "dados_treino, dados_teste, target_treino, target_teste = train_test_split(dados, target, test_size=0.3, random_state=3)"
   ]
  },
  {
   "cell_type": "markdown",
   "metadata": {
    "id": "_JitoeyUFmF0"
   },
   "source": [
    "## Classes"
   ]
  },
  {
   "cell_type": "code",
   "execution_count": 5,
   "metadata": {
    "colab": {
     "base_uri": "https://localhost:8080/"
    },
    "executionInfo": {
     "elapsed": 39,
     "status": "ok",
     "timestamp": 1639256505282,
     "user": {
      "displayName": "Luan Matheus Marques",
      "photoUrl": "https://lh3.googleusercontent.com/a-/AOh14GjL7p8YUmeOpBBKPOujdJowzTs91EVxvlcXcncA=s64",
      "userId": "05581394434927371962"
     },
     "user_tz": 180
    },
    "id": "Zbc8b0xgFdIR",
    "outputId": "b72dcd00-512b-4197-ed12-b56a2314e323"
   },
   "outputs": [
    {
     "name": "stderr",
     "output_type": "stream",
     "text": [
      "/usr/local/lib/python3.7/dist-packages/sklearn/linear_model/_logistic.py:818: ConvergenceWarning: lbfgs failed to converge (status=1):\n",
      "STOP: TOTAL NO. of ITERATIONS REACHED LIMIT.\n",
      "\n",
      "Increase the number of iterations (max_iter) or scale the data as shown in:\n",
      "    https://scikit-learn.org/stable/modules/preprocessing.html\n",
      "Please also refer to the documentation for alternative solver options:\n",
      "    https://scikit-learn.org/stable/modules/linear_model.html#logistic-regression\n",
      "  extra_warning_msg=_LOGISTIC_SOLVER_CONVERGENCE_MSG,\n"
     ]
    },
    {
     "data": {
      "text/plain": [
       "LogisticRegression()"
      ]
     },
     "execution_count": 5,
     "metadata": {},
     "output_type": "execute_result"
    }
   ],
   "source": [
    "lr = LogisticRegression()\n",
    "lr.fit(dados_treino, target_treino)"
   ]
  },
  {
   "cell_type": "markdown",
   "metadata": {
    "id": "RW_Yzm8RGAmD"
   },
   "source": [
    "## Score"
   ]
  },
  {
   "cell_type": "code",
   "execution_count": 1,
   "metadata": {
    "colab": {
     "base_uri": "https://localhost:8080/"
    },
    "executionInfo": {
     "elapsed": 31,
     "status": "ok",
     "timestamp": 1639256505283,
     "user": {
      "displayName": "Luan Matheus Marques",
      "photoUrl": "https://lh3.googleusercontent.com/a-/AOh14GjL7p8YUmeOpBBKPOujdJowzTs91EVxvlcXcncA=s64",
      "userId": "05581394434927371962"
     },
     "user_tz": 180
    },
    "id": "Sjz46PPGV99Q",
    "outputId": "b6a8a57c-99ce-4094-cb30-2952b974ce22"
   },
   "outputs": [
    {
     "ename": "NameError",
     "evalue": "name 'lr' is not defined",
     "output_type": "error",
     "traceback": [
      "\u001b[1;31m---------------------------------------------------------------------------\u001b[0m",
      "\u001b[1;31mNameError\u001b[0m                                 Traceback (most recent call last)",
      "\u001b[1;32m~\\AppData\\Local\\Temp/ipykernel_1532/1576513440.py\u001b[0m in \u001b[0;36m<module>\u001b[1;34m\u001b[0m\n\u001b[1;32m----> 1\u001b[1;33m \u001b[0mlr_accuraty\u001b[0m \u001b[1;33m=\u001b[0m \u001b[0mlr\u001b[0m\u001b[1;33m.\u001b[0m\u001b[0mscore\u001b[0m\u001b[1;33m(\u001b[0m\u001b[0mdados_teste\u001b[0m\u001b[1;33m,\u001b[0m \u001b[0mtarget_teste\u001b[0m\u001b[1;33m)\u001b[0m\u001b[1;33m\u001b[0m\u001b[1;33m\u001b[0m\u001b[0m\n\u001b[0m\u001b[0;32m      2\u001b[0m \u001b[1;33m\u001b[0m\u001b[0m\n\u001b[0;32m      3\u001b[0m \u001b[0mprint\u001b[0m\u001b[1;33m(\u001b[0m\u001b[1;34mf'L.R.: {lr_accuraty}'\u001b[0m\u001b[1;33m)\u001b[0m\u001b[1;33m\u001b[0m\u001b[1;33m\u001b[0m\u001b[0m\n",
      "\u001b[1;31mNameError\u001b[0m: name 'lr' is not defined"
     ]
    }
   ],
   "source": [
    "lr_accuraty = lr.score(dados_teste, target_teste)\n",
    "\n",
    "print(f'L.R.: {lr_accuraty}')\n"
   ]
  },
  {
   "cell_type": "code",
   "execution_count": 7,
   "metadata": {
    "colab": {
     "base_uri": "https://localhost:8080/"
    },
    "executionInfo": {
     "elapsed": 25,
     "status": "ok",
     "timestamp": 1639256505283,
     "user": {
      "displayName": "Luan Matheus Marques",
      "photoUrl": "https://lh3.googleusercontent.com/a-/AOh14GjL7p8YUmeOpBBKPOujdJowzTs91EVxvlcXcncA=s64",
      "userId": "05581394434927371962"
     },
     "user_tz": 180
    },
    "id": "3Dr9vcztl-V8",
    "outputId": "748ec3af-0950-4b1b-8efc-b69e72470c38"
   },
   "outputs": [
    {
     "name": "stdout",
     "output_type": "stream",
     "text": [
      "              precision    recall  f1-score   support\n",
      "\n",
      "           0       0.91      0.99      0.95       148\n",
      "           1       0.99      0.91      0.95       152\n",
      "\n",
      "    accuracy                           0.95       300\n",
      "   macro avg       0.95      0.95      0.95       300\n",
      "weighted avg       0.95      0.95      0.95       300\n",
      "\n"
     ]
    }
   ],
   "source": [
    "print(classification_report(target_teste, lr.predict(dados_teste)))"
   ]
  },
  {
   "cell_type": "markdown",
   "metadata": {
    "id": "VvXOwgaqhc8E"
   },
   "source": [
    "## Predicting a new instance's class"
   ]
  },
  {
   "cell_type": "code",
   "execution_count": 8,
   "metadata": {
    "colab": {
     "base_uri": "https://localhost:8080/"
    },
    "executionInfo": {
     "elapsed": 21,
     "status": "ok",
     "timestamp": 1639256505284,
     "user": {
      "displayName": "Luan Matheus Marques",
      "photoUrl": "https://lh3.googleusercontent.com/a-/AOh14GjL7p8YUmeOpBBKPOujdJowzTs91EVxvlcXcncA=s64",
      "userId": "05581394434927371962"
     },
     "user_tz": 180
    },
    "id": "FY0fmSfHYa6t",
    "outputId": "332f6db7-61ff-464e-dd3b-e5f4638a650e"
   },
   "outputs": [
    {
     "name": "stdout",
     "output_type": "stream",
     "text": [
      "L.R.: [1]\n"
     ]
    },
    {
     "name": "stderr",
     "output_type": "stream",
     "text": [
      "/usr/local/lib/python3.7/dist-packages/sklearn/base.py:446: UserWarning: X does not have valid feature names, but LogisticRegression was fitted with feature names\n",
      "  \"X does not have valid feature names, but\"\n"
     ]
    }
   ],
   "source": [
    "# nova instância\n",
    "person = [[50,17,6000, 180, 0]]\n",
    "p_lr = lr.predict(person)\n",
    "\n",
    "print(f'L.R.: {p_lr}')"
   ]
  },
  {
   "cell_type": "markdown",
   "metadata": {
    "id": "XnpO_uAEhmeU"
   },
   "source": [
    "## Confusion matrix"
   ]
  },
  {
   "cell_type": "code",
   "execution_count": 9,
   "metadata": {
    "colab": {
     "base_uri": "https://localhost:8080/"
    },
    "executionInfo": {
     "elapsed": 16,
     "status": "ok",
     "timestamp": 1639256505284,
     "user": {
      "displayName": "Luan Matheus Marques",
      "photoUrl": "https://lh3.googleusercontent.com/a-/AOh14GjL7p8YUmeOpBBKPOujdJowzTs91EVxvlcXcncA=s64",
      "userId": "05581394434927371962"
     },
     "user_tz": 180
    },
    "id": "WqSwpV69hwrU",
    "outputId": "c9b7cfb3-172c-43e0-aa62-66f8a554f2cd"
   },
   "outputs": [
    {
     "data": {
      "text/plain": [
       "array([[146,   2],\n",
       "       [ 14, 138]])"
      ]
     },
     "execution_count": 9,
     "metadata": {},
     "output_type": "execute_result"
    }
   ],
   "source": [
    "matrix_lr = confusion_matrix(target_teste, lr.predict(dados_teste))\n",
    "matrix_lr"
   ]
  },
  {
   "cell_type": "markdown",
   "metadata": {
    "id": "_KNT-w1JmyKl"
   },
   "source": [
    "## Classes probability"
   ]
  },
  {
   "cell_type": "code",
   "execution_count": 10,
   "metadata": {
    "colab": {
     "base_uri": "https://localhost:8080/"
    },
    "executionInfo": {
     "elapsed": 13,
     "status": "ok",
     "timestamp": 1639256505285,
     "user": {
      "displayName": "Luan Matheus Marques",
      "photoUrl": "https://lh3.googleusercontent.com/a-/AOh14GjL7p8YUmeOpBBKPOujdJowzTs91EVxvlcXcncA=s64",
      "userId": "05581394434927371962"
     },
     "user_tz": 180
    },
    "id": "uhWTkdOXmehx",
    "outputId": "2f43810f-0d05-4b1a-e1e5-8e8a14b9a9a4"
   },
   "outputs": [
    {
     "name": "stdout",
     "output_type": "stream",
     "text": [
      "L.R.: [[0.08985903 0.91014097]]\n"
     ]
    },
    {
     "name": "stderr",
     "output_type": "stream",
     "text": [
      "/usr/local/lib/python3.7/dist-packages/sklearn/base.py:446: UserWarning: X does not have valid feature names, but LogisticRegression was fitted with feature names\n",
      "  \"X does not have valid feature names, but\"\n"
     ]
    }
   ],
   "source": [
    "lr_prob = lr.predict_proba(person)\n",
    "\n",
    "print(f'L.R.: {lr_prob}')"
   ]
  },
  {
   "cell_type": "markdown",
   "metadata": {
    "id": "Qwea0bKhJR-j"
   },
   "source": [
    "## Graphics"
   ]
  },
  {
   "cell_type": "markdown",
   "metadata": {
    "id": "zmuDhs4GS1jd"
   },
   "source": [
    "### Compras por tempo de conexão"
   ]
  },
  {
   "cell_type": "code",
   "execution_count": 11,
   "metadata": {
    "colab": {
     "base_uri": "https://localhost:8080/",
     "height": 295
    },
    "executionInfo": {
     "elapsed": 459,
     "status": "ok",
     "timestamp": 1639256505734,
     "user": {
      "displayName": "Luan Matheus Marques",
      "photoUrl": "https://lh3.googleusercontent.com/a-/AOh14GjL7p8YUmeOpBBKPOujdJowzTs91EVxvlcXcncA=s64",
      "userId": "05581394434927371962"
     },
     "user_tz": 180
    },
    "id": "RQ36vt9xJxdb",
    "outputId": "1cafd5d9-4c18-4d77-9dd1-ea895d2989d9"
   },
   "outputs": [
    {
     "data": {
      "image/png": "[encoded data removed]",
      "text/plain": [
       "<Figure size 432x288 with 1 Axes>"
      ]
     },
     "metadata": {
      "needs_background": "light"
     },
     "output_type": "display_data"
    }
   ],
   "source": [
    "plt.title(\"Compras por Tempo de Conexão\")\n",
    "plt.xlabel(\"Tempo de Conexão\")\n",
    "plt.ylabel('Comprou')\n",
    "plt.scatter(dados['Tempo de Conexao'], target)\n",
    "m, b = np.polyfit(dados['Tempo de Conexao'], target, 1)\n",
    "plt.plot(dados['Tempo de Conexao'], m*dados['Tempo de Conexao'] + b)\n",
    "plt.show()"
   ]
  },
  {
   "cell_type": "code",
   "execution_count": 12,
   "metadata": {
    "colab": {
     "base_uri": "https://localhost:8080/",
     "height": 353
    },
    "executionInfo": {
     "elapsed": 5741,
     "status": "ok",
     "timestamp": 1639256511455,
     "user": {
      "displayName": "Luan Matheus Marques",
      "photoUrl": "https://lh3.googleusercontent.com/a-/AOh14GjL7p8YUmeOpBBKPOujdJowzTs91EVxvlcXcncA=s64",
      "userId": "05581394434927371962"
     },
     "user_tz": 180
    },
    "id": "ZGeTIOf2OMf3",
    "outputId": "a61b8998-7fcb-4a22-cc02-05508039d77c"
   },
   "outputs": [
    {
     "name": "stderr",
     "output_type": "stream",
     "text": [
      "/usr/local/lib/python3.7/dist-packages/statsmodels/tools/_testing.py:19: FutureWarning: pandas.util.testing is deprecated. Use the functions in the public API at pandas.testing instead.\n",
      "  import pandas.util.testing as tm\n"
     ]
    },
    {
     "data": {
      "text/plain": [
       "<matplotlib.axes._subplots.AxesSubplot at 0x7faafd51ba50>"
      ]
     },
     "execution_count": 12,
     "metadata": {},
     "output_type": "execute_result"
    },
    {
     "data": {
      "image/png": "[encoded data removed]",
      "text/plain": [
       "<Figure size 432x288 with 1 Axes>"
      ]
     },
     "metadata": {
      "needs_background": "light"
     },
     "output_type": "display_data"
    }
   ],
   "source": [
    "sb.regplot(x='Tempo de Conexao',y='Comprou', data=df, logistic=True)"
   ]
  },
  {
   "cell_type": "markdown",
   "metadata": {
    "id": "u8aREtojTA4D"
   },
   "source": [
    "### Compras por Idade"
   ]
  },
  {
   "cell_type": "code",
   "execution_count": 13,
   "metadata": {
    "colab": {
     "base_uri": "https://localhost:8080/",
     "height": 295
    },
    "executionInfo": {
     "elapsed": 472,
     "status": "ok",
     "timestamp": 1639256512938,
     "user": {
      "displayName": "Luan Matheus Marques",
      "photoUrl": "https://lh3.googleusercontent.com/a-/AOh14GjL7p8YUmeOpBBKPOujdJowzTs91EVxvlcXcncA=s64",
      "userId": "05581394434927371962"
     },
     "user_tz": 180
    },
    "id": "jGBRyE_JSzXZ",
    "outputId": "6ab8cc60-2f0b-4b9e-fcd3-b91517721471"
   },
   "outputs": [
    {
     "data": {
      "image/png": "[encoded data removed]",
      "text/plain": [
       "<Figure size 432x288 with 1 Axes>"
      ]
     },
     "metadata": {
      "needs_background": "light"
     },
     "output_type": "display_data"
    }
   ],
   "source": [
    "plt.title(\"Compras por Idade\")\n",
    "plt.xlabel(\"Idade\")\n",
    "plt.ylabel('Comprou')\n",
    "plt.scatter(dados['Idade'], target)\n",
    "m, b = np.polyfit(dados['Idade'], target, 1)\n",
    "plt.plot(dados['Idade'], m*dados['Idade'] + b)\n",
    "plt.show()"
   ]
  },
  {
   "cell_type": "code",
   "execution_count": 14,
   "metadata": {
    "colab": {
     "base_uri": "https://localhost:8080/",
     "height": 297
    },
    "executionInfo": {
     "elapsed": 4718,
     "status": "ok",
     "timestamp": 1639256547757,
     "user": {
      "displayName": "Luan Matheus Marques",
      "photoUrl": "https://lh3.googleusercontent.com/a-/AOh14GjL7p8YUmeOpBBKPOujdJowzTs91EVxvlcXcncA=s64",
      "userId": "05581394434927371962"
     },
     "user_tz": 180
    },
    "id": "OPPa46dsTa6w",
    "outputId": "1b2450fa-795f-43a3-d2cf-772a8d9f398a"
   },
   "outputs": [
    {
     "data": {
      "text/plain": [
       "<matplotlib.axes._subplots.AxesSubplot at 0x7faafcdc2ad0>"
      ]
     },
     "execution_count": 14,
     "metadata": {},
     "output_type": "execute_result"
    },
    {
     "data": {
      "image/png": "[encoded data removed]",
      "text/plain": [
       "<Figure size 432x288 with 1 Axes>"
      ]
     },
     "metadata": {
      "needs_background": "light"
     },
     "output_type": "display_data"
    }
   ],
   "source": [
    "sb.regplot(x='Idade',y='Comprou', data=df, logistic=True)"
   ]
  }
 ],
 "metadata": {
  "colab": {
   "authorship_tag": "ABX9TyPMf52CW129Kwi9sUqyTE7y",
   "collapsed_sections": [],
   "mount_file_id": "1tyeHQT_HdAM40ElE2oW_3G8RsSlHlB49",
   "name": "logistic-regression.ipynb",
   "provenance": []
  },
  "kernelspec": {
   "display_name": "Python 3 (ipykernel)",
   "language": "python",
   "name": "python3"
  },
  "language_info": {
   "codemirror_mode": {
    "name": "ipython",
    "version": 3
   },
   "file_extension": ".py",
   "mimetype": "text/x-python",
   "name": "python",
   "nbconvert_exporter": "python",
   "pygments_lexer": "ipython3",
   "version": "3.8.10"
  }
 },
 "nbformat": 4,
 "nbformat_minor": 1
}
