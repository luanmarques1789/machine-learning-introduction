{
 "cells": [
  {
   "cell_type": "markdown",
   "metadata": {
    "id": "bq9uIQwROB-C"
   },
   "source": [
    "# SVM\n",
    "\n",
    "**Support Vector Machine**"
   ]
  },
  {
   "cell_type": "markdown",
   "metadata": {
    "id": "jRQFni9-hydl"
   },
   "source": [
    "## Imports"
   ]
  },
  {
   "cell_type": "code",
   "execution_count": null,
   "metadata": {
    "id": "Ezl_KckIN9D2"
   },
   "outputs": [],
   "source": [
    "import pandas as pd\n",
    "import numpy as np\n",
    "\n",
    "from sklearn.svm import SVC\n",
    "from sklearn.model_selection import train_test_split\n",
    "from sklearn.metrics import accuracy_score, confusion_matrix, classification_report\n",
    "\n",
    "import seaborn as sb\n",
    "\n",
    "import matplotlib.pyplot as plt"
   ]
  },
  {
   "cell_type": "markdown",
   "metadata": {
    "id": "_cOGpAG2htS1"
   },
   "source": [
    "## Manipulating data "
   ]
  },
  {
   "cell_type": "code",
   "execution_count": null,
   "metadata": {
    "id": "BtDmdpRFPOGV"
   },
   "outputs": [],
   "source": [
    "local = '/content/drive/MyDrive/Colab Notebooks/Machine Learning/vendas.csv'\n",
    "df_original = pd.read_csv(local)\n",
    "\n",
    "# Retirando colunas 'inúteis'\n",
    "df = df_original.drop(['Cabecalho', 'Cidade', 'Pais', 'Horario Clique'], axis=1)"
   ]
  },
  {
   "cell_type": "code",
   "execution_count": null,
   "metadata": {
    "id": "NTIzPypvS7Df"
   },
   "outputs": [],
   "source": [
    "dados = df.drop('Comprou', axis=1)\n",
    "target = df['Comprou']\n",
    "\n",
    "dados_treino, dados_teste, target_treino, target_teste = train_test_split(dados, target, test_size=0.3, random_state=3)"
   ]
  },
  {
   "cell_type": "markdown",
   "metadata": {
    "id": "zErC9t72bfjg"
   },
   "source": [
    "## SVM"
   ]
  },
  {
   "cell_type": "code",
   "execution_count": null,
   "metadata": {
    "colab": {
     "base_uri": "https://localhost:8080/"
    },
    "executionInfo": {
     "elapsed": 40218,
     "status": "ok",
     "timestamp": 1639159110211,
     "user": {
      "displayName": "Luan Matheus Marques",
      "photoUrl": "https://lh3.googleusercontent.com/a-/AOh14GjL7p8YUmeOpBBKPOujdJowzTs91EVxvlcXcncA=s64",
      "userId": "05581394434927371962"
     },
     "user_tz": 180
    },
    "id": "bli3qst3beXF",
    "outputId": "54481661-72c6-45a3-e24e-f527f179ea5c"
   },
   "outputs": [
    {
     "data": {
      "text/plain": [
       "SVC(kernel='linear', probability=True, random_state=3)"
      ]
     },
     "execution_count": 4,
     "metadata": {},
     "output_type": "execute_result"
    }
   ],
   "source": [
    "svm = SVC(kernel='linear', C=1.0, random_state=3, probability=True);\n",
    "svm.fit(dados_treino, target_treino)"
   ]
  },
  {
   "cell_type": "markdown",
   "metadata": {
    "id": "RW_Yzm8RGAmD"
   },
   "source": [
    "## Score"
   ]
  },
  {
   "cell_type": "code",
   "execution_count": null,
   "metadata": {
    "colab": {
     "base_uri": "https://localhost:8080/"
    },
    "executionInfo": {
     "elapsed": 40,
     "status": "ok",
     "timestamp": 1639159110213,
     "user": {
      "displayName": "Luan Matheus Marques",
      "photoUrl": "https://lh3.googleusercontent.com/a-/AOh14GjL7p8YUmeOpBBKPOujdJowzTs91EVxvlcXcncA=s64",
      "userId": "05581394434927371962"
     },
     "user_tz": 180
    },
    "id": "Sjz46PPGV99Q",
    "outputId": "3617b5b1-d2da-4f91-9f24-367b88a465bf"
   },
   "outputs": [
    {
     "name": "stdout",
     "output_type": "stream",
     "text": [
      "SVM: 0.9566666666666667\n"
     ]
    }
   ],
   "source": [
    "svm_accuraty = svm.score(dados_teste, target_teste)\n",
    "print(f'SVM: {svm_accuraty}')\n"
   ]
  },
  {
   "cell_type": "code",
   "execution_count": 1,
   "metadata": {
    "colab": {
     "base_uri": "https://localhost:8080/",
     "height": 170
    },
    "executionInfo": {
     "elapsed": 309,
     "status": "error",
     "timestamp": 1639254146967,
     "user": {
      "displayName": "Luan Matheus Marques",
      "photoUrl": "https://lh3.googleusercontent.com/a-/AOh14GjL7p8YUmeOpBBKPOujdJowzTs91EVxvlcXcncA=s64",
      "userId": "05581394434927371962"
     },
     "user_tz": 180
    },
    "id": "4SB55HllgRJw",
    "outputId": "e2c9cf97-9fbd-4736-c0b7-d135e29c7798"
   },
   "outputs": [
    {
     "ename": "NameError",
     "evalue": "ignored",
     "output_type": "error",
     "traceback": [
      "\u001b[0;31m---------------------------------------------------------------------------\u001b[0m",
      "\u001b[0;31mNameError\u001b[0m                                 Traceback (most recent call last)",
      "\u001b[0;32m<ipython-input-1-09376900b0ed>\u001b[0m in \u001b[0;36m<module>\u001b[0;34m()\u001b[0m\n\u001b[0;32m----> 1\u001b[0;31m \u001b[0mprint\u001b[0m\u001b[0;34m(\u001b[0m\u001b[0mclassification_report\u001b[0m\u001b[0;34m(\u001b[0m\u001b[0mtarget_teste\u001b[0m\u001b[0;34m,\u001b[0m \u001b[0msvm\u001b[0m\u001b[0;34m.\u001b[0m\u001b[0mpredict\u001b[0m\u001b[0;34m(\u001b[0m\u001b[0mdados_teste\u001b[0m\u001b[0;34m)\u001b[0m\u001b[0;34m)\u001b[0m\u001b[0;34m)\u001b[0m\u001b[0;34m\u001b[0m\u001b[0;34m\u001b[0m\u001b[0m\n\u001b[0m",
      "\u001b[0;31mNameError\u001b[0m: name 'classification_report' is not defined"
     ]
    }
   ],
   "source": [
    "print(classification_report(target_teste, svm.predict(dados_teste)))"
   ]
  }
 ],
 "metadata": {
  "colab": {
   "authorship_tag": "ABX9TyMJVNs4BN5H5cQlCAKnS8Ff",
   "collapsed_sections": [
    "zErC9t72bfjg"
   ],
   "mount_file_id": "1dYt5E8KeGgfszEwhl2t4I6UDGopJczq3",
   "name": "svm.ipynb",
   "provenance": []
  },
  "kernelspec": {
   "display_name": "Python 3 (ipykernel)",
   "language": "python",
   "name": "python3"
  },
  "language_info": {
   "codemirror_mode": {
    "name": "ipython",
    "version": 3
   },
   "file_extension": ".py",
   "mimetype": "text/x-python",
   "name": "python",
   "nbconvert_exporter": "python",
   "pygments_lexer": "ipython3",
   "version": "3.8.10"
  }
 },
 "nbformat": 4,
 "nbformat_minor": 1
}
