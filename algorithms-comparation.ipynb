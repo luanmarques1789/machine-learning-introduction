{
 "cells": [
  {
   "cell_type": "markdown",
   "metadata": {
    "id": "bq9uIQwROB-C"
   },
   "source": [
    "# CLASSIFIER ALGORITHMS\n",
    "\n",
    "They are:\n",
    "- Decision Tree\n",
    "- KNN (k-nearest neighbors)\n",
    "- Logistic Regression\n",
    "- Naive Bayes\n",
    "- SVM (Support Vector Machine)"
   ]
  },
  {
   "cell_type": "markdown",
   "metadata": {
    "id": "CqDzSECDiM8-"
   },
   "source": [
    "## Imports"
   ]
  },
  {
   "cell_type": "code",
   "execution_count": 19,
   "metadata": {
    "id": "Ezl_KckIN9D2"
   },
   "outputs": [],
   "source": [
    "import pandas as pd\n",
    "import numpy as np\n",
    "\n",
    "# Algoritmos de classificação\n",
    "from sklearn.neighbors import KNeighborsClassifier\n",
    "from sklearn.tree import DecisionTreeClassifier\n",
    "from sklearn.naive_bayes import GaussianNB\n",
    "from sklearn.linear_model import LogisticRegression\n",
    "from sklearn.svm import SVC\n",
    "\n",
    "from sklearn.model_selection import train_test_split\n",
    "from sklearn.preprocessing import OrdinalEncoder\n",
    "from sklearn.metrics import accuracy_score, confusion_matrix, classification_report\n",
    "\n",
    "import seaborn as sb\n",
    "\n",
    "import matplotlib.pyplot as plt"
   ]
  },
  {
   "cell_type": "markdown",
   "metadata": {
    "id": "o-70oOtPiiTd"
   },
   "source": [
    "## Manipulating data"
   ]
  },
  {
   "cell_type": "code",
   "execution_count": 20,
   "metadata": {
    "id": "BtDmdpRFPOGV"
   },
   "outputs": [],
   "source": [
    "local = 'vendas.csv'\n",
    "origin_def = pd.read_csv(local)\n",
    "\n",
    "# Retirando colunas inúteis a fim de evitar a maldição\n",
    "df = origin_def.drop(['Cabecalho', 'Cidade', 'Pais', 'Horario Clique'], axis=1)"
   ]
  },
  {
   "cell_type": "code",
   "execution_count": 21,
   "metadata": {
    "id": "NTIzPypvS7Df"
   },
   "outputs": [],
   "source": [
    "dados = df.drop('Comprou', axis=1)\n",
    "target = df['Comprou']\n",
    "\n",
    "dados_treino, dados_teste, target_treino, target_teste = train_test_split(dados, target, test_size=0.3, random_state=3)"
   ]
  },
  {
   "cell_type": "markdown",
   "metadata": {
    "id": "4mz7GVTMf1KU"
   },
   "source": [
    "## Algorithms\n",
    "Instanciating classifier methods' classes"
   ]
  },
  {
   "cell_type": "markdown",
   "metadata": {
    "id": "Q7sU-SCVfInd"
   },
   "source": [
    "### K-nearest neighbors"
   ]
  },
  {
   "cell_type": "code",
   "execution_count": 33,
   "metadata": {
    "colab": {
     "base_uri": "https://localhost:8080/"
    },
    "executionInfo": {
     "elapsed": 13,
     "status": "ok",
     "timestamp": 1639158832598,
     "user": {
      "displayName": "Luan Matheus Marques",
      "photoUrl": "https://lh3.googleusercontent.com/a-/AOh14GjL7p8YUmeOpBBKPOujdJowzTs91EVxvlcXcncA=s64",
      "userId": "05581394434927371962"
     },
     "user_tz": 180
    },
    "id": "4tQJD1UJfRJx",
    "outputId": "cba2aea1-19fe-44c0-8ad1-fda1e6d2cadc"
   },
   "outputs": [
    {
     "data": {
      "text/plain": [
       "KNeighborsClassifier()"
      ]
     },
     "execution_count": 33,
     "metadata": {},
     "output_type": "execute_result"
    }
   ],
   "source": [
    "knn = KNeighborsClassifier(n_neighbors=5)\n",
    "knn.fit(dados_treino, target_treino)"
   ]
  },
  {
   "cell_type": "markdown",
   "metadata": {
    "id": "-Rt_CdNbfVfD"
   },
   "source": [
    "### Decision tree"
   ]
  },
  {
   "cell_type": "code",
   "execution_count": 23,
   "metadata": {
    "colab": {
     "base_uri": "https://localhost:8080/"
    },
    "executionInfo": {
     "elapsed": 12,
     "status": "ok",
     "timestamp": 1639158832599,
     "user": {
      "displayName": "Luan Matheus Marques",
      "photoUrl": "https://lh3.googleusercontent.com/a-/AOh14GjL7p8YUmeOpBBKPOujdJowzTs91EVxvlcXcncA=s64",
      "userId": "05581394434927371962"
     },
     "user_tz": 180
    },
    "id": "FW0j-ireUM5B",
    "outputId": "01af2a04-a08a-490f-902d-9d3924bfe362"
   },
   "outputs": [
    {
     "data": {
      "text/plain": [
       "DecisionTreeClassifier(criterion='entropy')"
      ]
     },
     "execution_count": 23,
     "metadata": {},
     "output_type": "execute_result"
    }
   ],
   "source": [
    "tree = DecisionTreeClassifier(criterion='entropy')\n",
    "tree.fit(dados_treino, target_treino)"
   ]
  },
  {
   "cell_type": "markdown",
   "metadata": {
    "id": "oq90jPZBf9vc"
   },
   "source": [
    "### Naive Bayes"
   ]
  },
  {
   "cell_type": "code",
   "execution_count": 24,
   "metadata": {
    "colab": {
     "base_uri": "https://localhost:8080/"
    },
    "executionInfo": {
     "elapsed": 11,
     "status": "ok",
     "timestamp": 1639158832600,
     "user": {
      "displayName": "Luan Matheus Marques",
      "photoUrl": "https://lh3.googleusercontent.com/a-/AOh14GjL7p8YUmeOpBBKPOujdJowzTs91EVxvlcXcncA=s64",
      "userId": "05581394434927371962"
     },
     "user_tz": 180
    },
    "id": "A7kTolRxfqwl",
    "outputId": "e1976258-9f78-4b89-8f23-2071e33f6d25"
   },
   "outputs": [
    {
     "data": {
      "text/plain": [
       "GaussianNB()"
      ]
     },
     "execution_count": 24,
     "metadata": {},
     "output_type": "execute_result"
    }
   ],
   "source": [
    "nb = GaussianNB()\n",
    "nb.fit(dados_treino, target_treino)"
   ]
  },
  {
   "cell_type": "markdown",
   "metadata": {
    "id": "_JitoeyUFmF0"
   },
   "source": [
    "### Lofistic Regression"
   ]
  },
  {
   "cell_type": "code",
   "execution_count": 31,
   "metadata": {
    "colab": {
     "base_uri": "https://localhost:8080/"
    },
    "executionInfo": {
     "elapsed": 408,
     "status": "ok",
     "timestamp": 1639159143811,
     "user": {
      "displayName": "Luan Matheus Marques",
      "photoUrl": "https://lh3.googleusercontent.com/a-/AOh14GjL7p8YUmeOpBBKPOujdJowzTs91EVxvlcXcncA=s64",
      "userId": "05581394434927371962"
     },
     "user_tz": 180
    },
    "id": "Zbc8b0xgFdIR",
    "outputId": "619a9ee7-7452-4cca-cfc5-4565f91035c2"
   },
   "outputs": [
    {
     "name": "stderr",
     "output_type": "stream",
     "text": [
      "C:\\Users\\luanm\\venv\\machine-learning-introduction\\lib\\site-packages\\sklearn\\linear_model\\_logistic.py:814: ConvergenceWarning: lbfgs failed to converge (status=1):\n",
      "STOP: TOTAL NO. of ITERATIONS REACHED LIMIT.\n",
      "\n",
      "Increase the number of iterations (max_iter) or scale the data as shown in:\n",
      "    https://scikit-learn.org/stable/modules/preprocessing.html\n",
      "Please also refer to the documentation for alternative solver options:\n",
      "    https://scikit-learn.org/stable/modules/linear_model.html#logistic-regression\n",
      "  n_iter_i = _check_optimize_result(\n"
     ]
    },
    {
     "data": {
      "text/plain": [
       "LogisticRegression()"
      ]
     },
     "execution_count": 31,
     "metadata": {},
     "output_type": "execute_result"
    }
   ],
   "source": [
    "lr = LogisticRegression()\n",
    "lr.fit(dados_treino, target_treino)"
   ]
  },
  {
   "cell_type": "markdown",
   "metadata": {
    "id": "zErC9t72bfjg"
   },
   "source": [
    "### SVM\n",
    "Utilizando o método linear"
   ]
  },
  {
   "cell_type": "code",
   "execution_count": 26,
   "metadata": {
    "colab": {
     "base_uri": "https://localhost:8080/"
    },
    "executionInfo": {
     "elapsed": 41370,
     "status": "ok",
     "timestamp": 1639158831606,
     "user": {
      "displayName": "Luan Matheus Marques",
      "photoUrl": "https://lh3.googleusercontent.com/a-/AOh14GjL7p8YUmeOpBBKPOujdJowzTs91EVxvlcXcncA=s64",
      "userId": "05581394434927371962"
     },
     "user_tz": 180
    },
    "id": "bli3qst3beXF",
    "outputId": "d26b1423-3070-4926-cacc-1d13fba4423a"
   },
   "outputs": [
    {
     "data": {
      "text/plain": [
       "SVC(kernel='linear', probability=True, random_state=3)"
      ]
     },
     "execution_count": 26,
     "metadata": {},
     "output_type": "execute_result"
    }
   ],
   "source": [
    "svm = SVC(kernel='linear', C=1.0, random_state=3, probability=True);\n",
    "svm.fit(dados_treino, target_treino)"
   ]
  },
  {
   "cell_type": "markdown",
   "metadata": {
    "id": "RW_Yzm8RGAmD"
   },
   "source": [
    "## Score"
   ]
  },
  {
   "cell_type": "code",
   "execution_count": 27,
   "metadata": {
    "colab": {
     "base_uri": "https://localhost:8080/"
    },
    "executionInfo": {
     "elapsed": 21,
     "status": "ok",
     "timestamp": 1639158832867,
     "user": {
      "displayName": "Luan Matheus Marques",
      "photoUrl": "https://lh3.googleusercontent.com/a-/AOh14GjL7p8YUmeOpBBKPOujdJowzTs91EVxvlcXcncA=s64",
      "userId": "05581394434927371962"
     },
     "user_tz": 180
    },
    "id": "Sjz46PPGV99Q",
    "outputId": "fe408fac-56a7-4bef-ba77-72015f6d31f9"
   },
   "outputs": [
    {
     "name": "stdout",
     "output_type": "stream",
     "text": [
      "KNN: 0.6766666666666666\n",
      "Tree: 0.9366666666666666\n",
      "Bayes: 0.9566666666666667\n",
      "L.R.: 0.9466666666666667\n",
      "SVM: 0.9566666666666667\n"
     ]
    }
   ],
   "source": [
    "knn_accuraty = knn.score(dados_teste, target_teste)\n",
    "tree_accuraty = tree.score(dados_teste, target_teste)\n",
    "nb_accuraty = nb.score(dados_teste, target_teste)\n",
    "lr_accuraty = lr.score(dados_teste, target_teste)\n",
    "svm_accuraty = svm.score(dados_teste, target_teste)\n",
    "\n",
    "print(f'KNN: {knn_accuraty}')\n",
    "print(f'Tree: {tree_accuraty}')\n",
    "print(f'Bayes: {nb_accuraty}')\n",
    "print(f'L.R.: {lr_accuraty}')\n",
    "print(f'SVM: {svm_accuraty}')\n"
   ]
  },
  {
   "cell_type": "markdown",
   "metadata": {
    "id": "-_-IU0Rli9ZA"
   },
   "source": [
    "## Others tests"
   ]
  },
  {
   "cell_type": "markdown",
   "metadata": {
    "id": "VvXOwgaqhc8E"
   },
   "source": [
    "### Predicting a new instance's class"
   ]
  },
  {
   "cell_type": "code",
   "execution_count": 28,
   "metadata": {
    "colab": {
     "base_uri": "https://localhost:8080/",
     "height": 242
    },
    "executionInfo": {
     "elapsed": 398,
     "status": "error",
     "timestamp": 1639254911201,
     "user": {
      "displayName": "Luan Matheus Marques",
      "photoUrl": "https://lh3.googleusercontent.com/a-/AOh14GjL7p8YUmeOpBBKPOujdJowzTs91EVxvlcXcncA=s64",
      "userId": "05581394434927371962"
     },
     "user_tz": 180
    },
    "id": "FY0fmSfHYa6t",
    "outputId": "dbaf666d-93be-4803-9f47-3443d9cf2c76"
   },
   "outputs": [
    {
     "name": "stdout",
     "output_type": "stream",
     "text": [
      "KNN: [1]\n",
      "Tree: [0]\n",
      "Bayes: [1]\n",
      "L.R.: [1]\n",
      "SVM: [1]\n"
     ]
    },
    {
     "name": "stderr",
     "output_type": "stream",
     "text": [
      "C:\\Users\\luanm\\venv\\machine-learning-introduction\\lib\\site-packages\\sklearn\\base.py:445: UserWarning: X does not have valid feature names, but KNeighborsClassifier was fitted with feature names\n",
      "  warnings.warn(\n",
      "C:\\Users\\luanm\\venv\\machine-learning-introduction\\lib\\site-packages\\sklearn\\base.py:445: UserWarning: X does not have valid feature names, but DecisionTreeClassifier was fitted with feature names\n",
      "  warnings.warn(\n",
      "C:\\Users\\luanm\\venv\\machine-learning-introduction\\lib\\site-packages\\sklearn\\base.py:445: UserWarning: X does not have valid feature names, but GaussianNB was fitted with feature names\n",
      "  warnings.warn(\n",
      "C:\\Users\\luanm\\venv\\machine-learning-introduction\\lib\\site-packages\\sklearn\\base.py:445: UserWarning: X does not have valid feature names, but LogisticRegression was fitted with feature names\n",
      "  warnings.warn(\n",
      "C:\\Users\\luanm\\venv\\machine-learning-introduction\\lib\\site-packages\\sklearn\\base.py:445: UserWarning: X does not have valid feature names, but SVC was fitted with feature names\n",
      "  warnings.warn(\n"
     ]
    }
   ],
   "source": [
    "# new instance\n",
    "person = [[50,17,6000, 180, 0]]\n",
    "p_knn = knn.predict(person)\n",
    "p_tree = tree.predict(person)\n",
    "p_nb = nb.predict(person)\n",
    "p_lr = lr.predict(person)\n",
    "p_svm = svm.predict(person)\n",
    "\n",
    "print(f'KNN: {p_knn}')\n",
    "print(f'Tree: {p_tree}')\n",
    "print(f'Bayes: {p_nb}')\n",
    "print(f'L.R.: {p_lr}')\n",
    "print(f'SVM: {p_svm}')\n"
   ]
  },
  {
   "cell_type": "markdown",
   "metadata": {
    "id": "_KNT-w1JmyKl"
   },
   "source": [
    "### Classes probability"
   ]
  },
  {
   "cell_type": "code",
   "execution_count": 32,
   "metadata": {
    "colab": {
     "base_uri": "https://localhost:8080/",
     "height": 242
    },
    "executionInfo": {
     "elapsed": 13,
     "status": "error",
     "timestamp": 1639254911563,
     "user": {
      "displayName": "Luan Matheus Marques",
      "photoUrl": "https://lh3.googleusercontent.com/a-/AOh14GjL7p8YUmeOpBBKPOujdJowzTs91EVxvlcXcncA=s64",
      "userId": "05581394434927371962"
     },
     "user_tz": 180
    },
    "id": "uhWTkdOXmehx",
    "outputId": "98610084-3f91-45dd-abe2-9acd99515cde"
   },
   "outputs": [
    {
     "name": "stdout",
     "output_type": "stream",
     "text": [
      "KNN: [[0. 1.]]\n",
      "Tree: [[1. 0.]]\n",
      "Bayes: [[4.20466175e-09 9.99999996e-01]]\n",
      "L.R.: [[0.08986031 0.91013969]]\n",
      "SVM: [[4.47526818e-07 9.99999552e-01]]\n"
     ]
    },
    {
     "name": "stderr",
     "output_type": "stream",
     "text": [
      "C:\\Users\\luanm\\venv\\machine-learning-introduction\\lib\\site-packages\\sklearn\\base.py:445: UserWarning: X does not have valid feature names, but KNeighborsClassifier was fitted with feature names\n",
      "  warnings.warn(\n",
      "C:\\Users\\luanm\\venv\\machine-learning-introduction\\lib\\site-packages\\sklearn\\base.py:445: UserWarning: X does not have valid feature names, but DecisionTreeClassifier was fitted with feature names\n",
      "  warnings.warn(\n",
      "C:\\Users\\luanm\\venv\\machine-learning-introduction\\lib\\site-packages\\sklearn\\base.py:445: UserWarning: X does not have valid feature names, but GaussianNB was fitted with feature names\n",
      "  warnings.warn(\n",
      "C:\\Users\\luanm\\venv\\machine-learning-introduction\\lib\\site-packages\\sklearn\\base.py:445: UserWarning: X does not have valid feature names, but LogisticRegression was fitted with feature names\n",
      "  warnings.warn(\n",
      "C:\\Users\\luanm\\venv\\machine-learning-introduction\\lib\\site-packages\\sklearn\\base.py:445: UserWarning: X does not have valid feature names, but SVC was fitted with feature names\n",
      "  warnings.warn(\n"
     ]
    }
   ],
   "source": [
    "knn_prob = knn.predict_proba(person)\n",
    "tree_prob = tree.predict_proba(person)\n",
    "nb_prob = nb.predict_proba(person)\n",
    "lr_prob = lr.predict_proba(person)\n",
    "svm_prob = svm.predict_proba(person)\n",
    "\n",
    "\n",
    "print(f'KNN: {knn_prob}')\n",
    "print(f'Tree: {tree_prob}')\n",
    "print(f'Bayes: {nb_prob}')\n",
    "print(f'L.R.: {lr_prob}')\n",
    "print(f'SVM: {svm_prob}')"
   ]
  },
  {
   "cell_type": "markdown",
   "metadata": {
    "id": "XnpO_uAEhmeU"
   },
   "source": [
    "### Confusion matrix"
   ]
  },
  {
   "cell_type": "code",
   "execution_count": 30,
   "metadata": {
    "colab": {
     "base_uri": "https://localhost:8080/",
     "height": 242
    },
    "executionInfo": {
     "elapsed": 12,
     "status": "error",
     "timestamp": 1639254911564,
     "user": {
      "displayName": "Luan Matheus Marques",
      "photoUrl": "https://lh3.googleusercontent.com/a-/AOh14GjL7p8YUmeOpBBKPOujdJowzTs91EVxvlcXcncA=s64",
      "userId": "05581394434927371962"
     },
     "user_tz": 180
    },
    "id": "WqSwpV69hwrU",
    "outputId": "a33da802-bc48-4309-8d03-35a8a57bb3e4"
   },
   "outputs": [
    {
     "data": {
      "text/plain": [
       "array([[142,   6],\n",
       "       [  7, 145]], dtype=int64)"
      ]
     },
     "execution_count": 30,
     "metadata": {},
     "output_type": "execute_result"
    }
   ],
   "source": [
    "matrix_knn = confusion_matrix(target_teste, knn.predict(dados_teste))\n",
    "matrix_tree = confusion_matrix(target_teste, tree.predict(dados_teste))\n",
    "matrix_nb = confusion_matrix(target_teste, nb.predict(dados_teste))\n",
    "matrix_lr = confusion_matrix(target_teste, lr.predict(dados_teste))\n",
    "matrix_svm = confusion_matrix(target_teste, svm.predict(dados_teste))\n",
    "matrix_svm"
   ]
  }
 ],
 "metadata": {
  "colab": {
   "authorship_tag": "ABX9TyNOBZhNs4wjepOx/Ox2KLJU",
   "collapsed_sections": [
    "Q7sU-SCVfInd",
    "-Rt_CdNbfVfD",
    "zErC9t72bfjg"
   ],
   "mount_file_id": "1w0CMx5V8JuXsnv8605sAgALBAg5kDFkI",
   "name": "algorithms-comparation.ipynb",
   "provenance": []
  },
  "kernelspec": {
   "display_name": "Python 3 (ipykernel)",
   "language": "python",
   "name": "python3"
  },
  "language_info": {
   "codemirror_mode": {
    "name": "ipython",
    "version": 3
   },
   "file_extension": ".py",
   "mimetype": "text/x-python",
   "name": "python",
   "nbconvert_exporter": "python",
   "pygments_lexer": "ipython3",
   "version": "3.8.10"
  }
 },
 "nbformat": 4,
 "nbformat_minor": 1
}
